{
 "cells": [
  {
   "cell_type": "code",
   "execution_count": 43,
   "metadata": {
    "collapsed": false
   },
   "outputs": [],
   "source": [
    "from pprint import pprint\n",
    "import tempfile\n",
    "\n",
    "%matplotlib inline\n",
    "import matplotlib.pyplot as plt\n",
    "plt.switch_backend('cairo')\n",
    "import pandas as pd\n",
    "import seaborn as sns\n",
    "import yaml\n",
    "\n",
    "import graph_tool as gt\n",
    "import graph_tool.all\n",
    "\n",
    "plt.style.use('fivethirtyeight')"
   ]
  },
  {
   "cell_type": "code",
   "execution_count": 44,
   "metadata": {
    "collapsed": false
   },
   "outputs": [],
   "source": [
    "with open('../outputs/stats/31/invertebrate/GCF_000002195.4_Amel_4.5_cds_from_genomic.stats', 'r') as f:\n",
    "    data = yaml.load(f)\n",
    "\n",
    "    for msize in data['motifs']:\n",
    "        for i, motif in enumerate(data['motifs'][msize][0]):\n",
    "            with tempfile.TemporaryFile() as f:\n",
    "                f.write(motif.encode('utf-8'))\n",
    "                f.seek(0)\n",
    "                mg = gt.load_graph(f, fmt='dot')\n",
    "                data['motifs'][msize][0][i] = mg"
   ]
  },
  {
   "cell_type": "code",
   "execution_count": 45,
   "metadata": {
    "collapsed": false
   },
   "outputs": [
    {
     "data": {
      "text/plain": [
       "<Container object of 100 artists>"
      ]
     },
     "execution_count": 45,
     "metadata": {},
     "output_type": "execute_result"
    },
    {
     "data": {
      "image/png": "[encoded data removed]",
      "text/plain": [
       "<matplotlib.figure.Figure at 0x7efbcee92ba8>"
      ]
     },
     "metadata": {},
     "output_type": "display_data"
    }
   ],
   "source": [
    "fig = plt.figure(figsize=(12,8))\n",
    "width = data['linear_paths']['bins'][1] - data['linear_paths']['bins'][0]\n",
    "plt.bar(data['linear_paths']['bins'][:-1], data['linear_paths']['counts'],\n",
    "        log=True, width=width)"
   ]
  },
  {
   "cell_type": "code",
   "execution_count": 93,
   "metadata": {
    "collapsed": false
   },
   "outputs": [
    {
     "data": {
      "text/plain": [
       "14452"
      ]
     },
     "execution_count": 93,
     "metadata": {},
     "output_type": "execute_result"
    }
   ],
   "source": [
    "sum(data['linear_paths']['counts'])"
   ]
  },
  {
   "cell_type": "code",
   "execution_count": 90,
   "metadata": {
    "collapsed": false,
    "scrolled": true
   },
   "outputs": [
    {
     "name": "stdout",
     "output_type": "stream",
     "text": [
      "18952\n",
      "65094\n",
      "185\n",
      "3719\n",
      "18\n"
     ]
    },
    {
     "data": {
      "image/png": "[encoded data removed]",
      "text/plain": [
       "<matplotlib.figure.Figure at 0x7efbcc295eb8>"
      ]
     },
     "metadata": {},
     "output_type": "display_data"
    },
    {
     "data": {
      "image/png": "[encoded data removed]",
      "text/plain": [
       "<matplotlib.figure.Figure at 0x7efbd30bbef0>"
      ]
     },
     "metadata": {},
     "output_type": "display_data"
    },
    {
     "data": {
      "image/png": "[encoded data removed]",
      "text/plain": [
       "<matplotlib.figure.Figure at 0x7efbc7e70208>"
      ]
     },
     "metadata": {},
     "output_type": "display_data"
    },
    {
     "data": {
      "image/png": "[encoded data removed]",
      "text/plain": [
       "<matplotlib.figure.Figure at 0x7efbc7db3320>"
      ]
     },
     "metadata": {},
     "output_type": "display_data"
    },
    {
     "data": {
      "image/png": "[encoded data removed]",
      "text/plain": [
       "<matplotlib.figure.Figure at 0x7efbcefc3320>"
      ]
     },
     "metadata": {},
     "output_type": "display_data"
    }
   ],
   "source": [
    "pos = None\n",
    "for i, mg in enumerate(data['motifs'][4][0]):\n",
    "    if pos is None:\n",
    "        pos = mg.new_vertex_property(\"vector<double>\")\n",
    "        pos[0] = (1,0)\n",
    "        pos[1] = (1,1)\n",
    "        pos[2] = (0,1)\n",
    "        pos[3] = (0,0)\n",
    "    plt.figure(figsize=(1,1))\n",
    "    ax = plt.gca()\n",
    "    plt.axis('off')\n",
    "    gt.draw.graph_draw(mg, pos=pos, vertex_size=10, mplfig=ax)\n",
    "    print(data['motifs'][4][1][i])"
   ]
  },
  {
   "cell_type": "code",
   "execution_count": 92,
   "metadata": {
    "collapsed": false
   },
   "outputs": [
    {
     "name": "stdout",
     "output_type": "stream",
     "text": [
      "64011\n",
      "47\n"
     ]
    },
    {
     "data": {
      "image/png": "[encoded data removed]",
      "text/plain": [
       "<matplotlib.figure.Figure at 0x7efbc7d40cf8>"
      ]
     },
     "metadata": {},
     "output_type": "display_data"
    },
    {
     "data": {
      "image/png": "[encoded data removed]",
      "text/plain": [
       "<matplotlib.figure.Figure at 0x7efbc7e20a20>"
      ]
     },
     "metadata": {},
     "output_type": "display_data"
    }
   ],
   "source": [
    "pos = None\n",
    "for i, mg in enumerate(data['motifs'][3][0]):\n",
    "    if pos is None:\n",
    "        pos = mg.new_vertex_property(\"vector<double>\")\n",
    "        pos[0] = (1,0)\n",
    "        pos[1] = (1,1)\n",
    "        pos[2] = (.5,1)\n",
    "    plt.figure(figsize=(1,1))\n",
    "    ax = plt.gca()\n",
    "    plt.axis('off')\n",
    "    gt.draw.graph_draw(mg, pos=pos, vertex_size=10, mplfig=ax)\n",
    "    print(data['motifs'][3][1][i])"
   ]
  },
  {
   "cell_type": "code",
   "execution_count": 87,
   "metadata": {
    "collapsed": false
   },
   "outputs": [
    {
     "data": {
      "text/plain": [
       "[64011, 47]"
      ]
     },
     "execution_count": 87,
     "metadata": {},
     "output_type": "execute_result"
    }
   ],
   "source": [
    "data['motifs'][3][1]"
   ]
  }
 ],
 "metadata": {
  "kernelspec": {
   "display_name": "Python 3",
   "language": "python",
   "name": "python3"
  },
  "language_info": {
   "codemirror_mode": {
    "name": "ipython",
    "version": 3
   },
   "file_extension": ".py",
   "mimetype": "text/x-python",
   "name": "python",
   "nbconvert_exporter": "python",
   "pygments_lexer": "ipython3",
   "version": "3.5.1"
  }
 },
 "nbformat": 4,
 "nbformat_minor": 0
}
